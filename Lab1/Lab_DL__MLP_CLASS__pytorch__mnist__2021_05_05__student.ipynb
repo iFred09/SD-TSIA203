{
  "cells": [
    {
      "cell_type": "markdown",
      "metadata": {
        "id": "WpYK9fIlyZCq"
      },
      "source": [
        "# Lab Deep Learning / Multi-Layer Perceptron for classification / in pytorch\n",
        "\n",
        "**Author: geoffroy.peeters@telecom-paris.fr**\n",
        "\n",
        "For any remark or suggestion, please feel free to contact me.\n",
        "\n",
        "Last edit: 2020/04/27 peeters\n",
        "\n",
        "Read the \"introduction to pytorch\" slides first: https://perso.telecom-paristech.fr/gpeeters/doc/pytorch/\n",
        "\n",
        "**Is is recommended that you first perform the ```Lab Deep Learning / Multi-Layer Perceptron for regression / in pytorch``` Lab to understand how to write a Neural Network in pytorch.**\n",
        "\n",
        "\n",
        "## Objective:\n",
        "\n",
        "The objective of this lab is to develop a two hidden layers MLP to perform image **classification**.\n",
        "\n",
        "While the previous Lab ```Lab Deep Learning / Multi-Layer Perceptron for regression / in pytorch``` focused on how to write a Neural Network, the present Lab focuses on managing datasets and splitting training and testing .\n",
        "\n",
        "We will use MNIST for the image dataset.\n",
        "\n",
        "## Your task:\n",
        "\n",
        "You need to add the missing parts in the code (parts between ```# --- START CODE HERE``` and ```# --- END CODE HERE```)\n",
        "\n",
        "## Documentation:\n",
        "- NN: https://pytorch.org/docs/stable/nn.html\n",
        "- Autograd: https://pytorch.org/docs/stable/autograd.html\n",
        "- Optim: https://pytorch.org/docs/stable/optim.html\n"
      ]
    },
    {
      "cell_type": "code",
      "execution_count": 1,
      "metadata": {
        "id": "h6o3NZfNyZCt"
      },
      "outputs": [],
      "source": [
        "import torch\n",
        "import torch.nn as nn\n",
        "import torch.nn.functional as F\n",
        "import torch.optim as optim\n",
        "from torchvision import datasets, transforms\n",
        "import matplotlib.pyplot as plt"
      ]
    },
    {
      "cell_type": "markdown",
      "metadata": {
        "id": "Vy7u-IVkyZCu"
      },
      "source": [
        "## Data management\n",
        "\n",
        "It is common to separate the datasets into\n",
        "- a **training** part (used to find the network parameters which minimize the loss)\n",
        "- a **test part** (used to estimate the performances).\n",
        "\n",
        "The training part can itself be further splitted into a training and a validation part (the validation part is then used to fix the hyper-parameters of the system).\n",
        "\n",
        "When performing ```batch gradient descent``` the whole training set is used to compute the gradients (which itself is used for the parameter optimization).\n",
        "However when performing ```stochastic or mini-batch gradient descent``` only a part of the training data is used at each iteration.\n",
        "\n",
        "We therefore needs to write all the necessary code, to get these mini-batches of data, be sure that all data have been seen, potentially randomize the order of appearance of these data and potentially perform some modifications of the data before giving them to the network.\n",
        "\n",
        "Fortunatelly, pytorch has associated to it (but not included in it) a nice package (```torchvision```) which allows to do all that for us.\n",
        "\n",
        "This package allows to perform these process for any datasets but has a pre-tuned method for the ```MNIST```datasets.\n",
        "\n",
        "### Datasets\n",
        "\n",
        "In the following we will us ```datasets.MNIST``` to load the train and test data.\n",
        "\n",
        "We need to tell it to download the data, where to dowload them and if we want the training or the testing part of it.\n",
        "\n",
        "We then tell it if we want to apply some transformations to the data.\n",
        "\n",
        "For this lab, we will transform the data by\n",
        "- 1) transforming them to torch tensors (using ```transforms.ToTensor()```); since by default they are not torch tensors\n",
        "- 2) normalize them to zero mean and unit standard deviation (using ```transforms.Normalize()```).\n",
        "\n",
        "It is of course possible to also apply data augmentation.\n",
        "\n",
        "Since we have several transforms to be performed, we will compose them using ```transforms.Compose([transform1, transform2])```\n",
        "\n",
        "The corresponding datasets is a class which contains the pairs of [input tensors $X$, corresponding ground-truth label $y$].\n",
        "\n",
        "### Dataloader\n",
        "\n",
        "Another nice pytorch facility is the ```Dataloader``` which transforms the dataset to be used as an iterator (i.e. within ```for data in myDataloader: ```).\n",
        "\n",
        "Moreover, ```Dataloader``` allows to specify\n",
        "- how many data will be provided each time it is called (```batch_size```)\n",
        "- if the order of appearance of the data with be random (````shuffle````).\n",
        "\n",
        "We therefore convert our datasets (train and test) to ```DataLoader``` that are directly used as iterator during the iterations (it DataLoader manage directly the mini-batch and shuffling)."
      ]
    },
    {
      "cell_type": "code",
      "execution_count": 2,
      "metadata": {
        "id": "zsSEvakPyZCv"
      },
      "outputs": [
        {
          "name": "stderr",
          "output_type": "stream",
          "text": [
            "100.0%\n",
            "100.0%\n",
            "100.0%\n",
            "100.0%\n"
          ]
        }
      ],
      "source": [
        "# --- START CODE HERE (01)\n",
        "train_set = datasets.MNIST(\n",
        "    root='./data',\n",
        "    train=True,\n",
        "    download=True,\n",
        "    transform=transforms.Compose([\n",
        "        transforms.ToTensor(),\n",
        "        transforms.Normalize((0.1307,), (0.3081,))\n",
        "    ])\n",
        ")\n",
        "train_loader = torch.utils.data.DataLoader(\n",
        "    train_set,\n",
        "    batch_size=64,\n",
        "    shuffle=True\n",
        ")\n",
        "test_set = datasets.MNIST(\n",
        "    root='./data',\n",
        "    train=False,\n",
        "    download=True,\n",
        "    transform=transforms.Compose([\n",
        "        transforms.ToTensor(),\n",
        "        transforms.Normalize((0.1307,), (0.3081,))\n",
        "    ])\n",
        ")\n",
        "test_loader = torch.utils.data.DataLoader(\n",
        "    test_set,\n",
        "    batch_size=64,\n",
        "    shuffle=True\n",
        ")\n",
        "# --- END CODE HERE"
      ]
    },
    {
      "cell_type": "code",
      "execution_count": 3,
      "metadata": {
        "colab": {
          "base_uri": "https://localhost:8080/",
          "height": 240
        },
        "id": "FFuEXr0tyZCw",
        "outputId": "59ad5329-e7b3-4dd3-f0f7-79bbbcfde7f7"
      },
      "outputs": [
        {
          "name": "stdout",
          "output_type": "stream",
          "text": [
            "dataset type: <class 'torchvision.datasets.mnist.MNIST'>\n",
            "dataset size: 60000\n",
            "X data: torch.Size([1, 28, 28])\n",
            "y data: 5\n"
          ]
        }
      ],
      "source": [
        "print(\"dataset type: {}\".format(type(train_set)))\n",
        "print(\"dataset size: {}\".format(len(train_set)))\n",
        "print(\"X data: {}\".format(train_set[0][0].size()))\n",
        "print(\"y data: {}\".format(train_set[0][1]))"
      ]
    },
    {
      "cell_type": "markdown",
      "metadata": {
        "id": "piAf25dxyZCx"
      },
      "source": [
        "### Display the first 5 data of MNIST dataset."
      ]
    },
    {
      "cell_type": "code",
      "execution_count": 4,
      "metadata": {
        "id": "Jsa2MAEhyZCx"
      },
      "outputs": [
        {
          "data": {
            "image/png": "[encoded data removed]",
            "text/plain": [
              "<Figure size 640x480 with 5 Axes>"
            ]
          },
          "metadata": {},
          "output_type": "display_data"
        }
      ],
      "source": [
        "# ------------------------------------\n",
        "for num in range(0,5):\n",
        "    one_data = next(iter(train_loader))\n",
        "    plt.subplot(1,5,num+1)\n",
        "    plt.imshow(one_data[0][0][0,:,:])\n",
        "    plt.title(one_data[1][0].item())"
      ]
    },
    {
      "cell_type": "markdown",
      "metadata": {
        "id": "bo6-KX8UyZCy"
      },
      "source": [
        "## Network setting\n",
        "\n",
        "While image classification, is usually performed using Convolutional Neural Networks, we will use here a Multi-Layer-Perceptron (also named ```fully-connected```).\n",
        "For this, we will flatten (i.e. convert the iamge 2D matrix to a 1D vector) the input images.\n",
        "\n",
        "- The input images are of size 28*28 and are converted to vectors of size ```n_in```=784.\n",
        "\n",
        "- The two hidden layers have````n_h1````=500 and ```n_h2```=256 unit/neurons each and ```Relu```activations.\n",
        "\n",
        "- The output are the ```n_out```=10 classes (the 10 digits to be recognized).\n",
        "\n",
        "Since we deal with a muti-class problem (10 classes), the output activations is therefore a ```softmax```.\n",
        "\n",
        "Note that since the ```softmax```output will be given to a ```cross-entropy```, the ```log```et the latter can be directly added to the ```softmax```. This leads to the pytorch function ```F.log_softmax```.\n"
      ]
    },
    {
      "cell_type": "code",
      "execution_count": 5,
      "metadata": {
        "id": "H0uIIQb9yZCy"
      },
      "outputs": [],
      "source": [
        "class Net(nn.Module):\n",
        "    def __init__(self):\n",
        "        n_in = 28*28\n",
        "        n_h1 = 500\n",
        "        n_h2 = 256\n",
        "        n_out = 10\n",
        "        super(Net, self).__init__()\n",
        "        # --- START CODE HERE  (02)\n",
        "        self.fc1 = nn.Linear(n_in, n_h1)\n",
        "        self.fc2 = nn.Linear(n_h1, n_h2)\n",
        "        self.fc3 = nn.Linear(n_h2, n_out)\n",
        "        # --- END CODE HERE\n",
        "    def forward(self, x):\n",
        "        # --- START CODE HERE  (03)\n",
        "        x = self.fc3(torch.relu(self.fc2(torch.relu(self.fc1(torch.flatten(x,1))))))\n",
        "        # --- END CODE HERE\n",
        "        return F.log_softmax(x, dim=1)"
      ]
    },
    {
      "cell_type": "markdown",
      "metadata": {
        "id": "x7qcgKFwyZCz"
      },
      "source": [
        "## Defining the train and test functions\n",
        "\n",
        "In the present lab, we distinguish between train and test data.\n",
        "We therefore write\n",
        "- a train function (to learn the network parameters on the train data),\n",
        "- a test function (to evaluate the network's performances on the test data).\n",
        "\n",
        "The ```train``` and ```test```function will perform the computation for a given ```epoch```.\n",
        "The functions therefore only need to ```loop over``` the mini-batches.\n",
        "This is now easy since we defined our ```Dataloader```for train and test.\n",
        "\n",
        "For the train function, for each mini-batch, we  \n",
        "- compute the forward pass by passing the data to the model: haty = model(x)\n",
        "- compute the the loss (the criterion)\n",
        "- putting at zero the gradients of all the parameters of the network (this is important since, by default, pytorch accumulate the gradients over time)\n",
        "- computing the backpropagation (using as before .backward())\n",
        "- performing one step of optimization (using .step())\n",
        "\n",
        "For the train function, we set the model to train mode (```model.train()```). This allows to set some specific behaviours for training (such as activate the dropout).\n",
        "\n",
        "For the test function, we set the model to train mode (```model.eval()```). This allows to set some specific behaviours for training (such as removing the dropout).\n",
        "\n",
        "\n",
        "Since we are dealing with a multi-class problem (10 classes), we will minimize as loss the ```cross-entropy``` (named negative-log-likelihood ```nll_loss```in pytorch).\n",
        "Since ```nll_loss```does not contains the ```log``` we have added it directly to the softmax by using the ```log_softmax```as output activation of our network.\n",
        "\n",
        "Note that we could use the loss from the nn package (```torch.nn.NLLLoss```) it is then a class which needs to be first instanciated.\n",
        "We can also use the same but as a function (```F.nll_loss()```) which can be used directly without instanciating the class."
      ]
    },
    {
      "cell_type": "code",
      "execution_count": 6,
      "metadata": {
        "id": "3dGuPt96yZCz"
      },
      "outputs": [],
      "source": [
        "def train(model, train_loader, optimizer, epoch):\n",
        "    model.train()\n",
        "    for batch_idx, (data, target) in enumerate(train_loader):\n",
        "        # --- START CODE HERE  (04)\n",
        "        optimizer.zero_grad()\n",
        "        output = model(data)\n",
        "        loss = F.nll_loss(output, target)\n",
        "        loss.backward()\n",
        "        optimizer.step()\n",
        "        # --- END CODE HERE\n",
        "\n",
        "        if batch_idx % 100 == 0:\n",
        "            print('epoch {}, loss {}'.format(epoch, loss.item()))"
      ]
    },
    {
      "cell_type": "code",
      "execution_count": 8,
      "metadata": {
        "id": "zI8QtzV2yZC0"
      },
      "outputs": [],
      "source": [
        "def test(model, test_loader):\n",
        "    model.eval()\n",
        "    test_loss = 0\n",
        "    correct = 0\n",
        "    with torch.no_grad():\n",
        "        for data, target in test_loader:\n",
        "            # --- START CODE HERE  (05)\n",
        "            output = model(data)\n",
        "            test_loss += F.nll_loss(output, target, reduction='sum').item()\n",
        "            pred = output.argmax(dim=1, keepdim=True)\n",
        "            correct += pred.eq(target.view_as(pred)).sum().item()\n",
        "            # --- STOP CODE HERE\n",
        "\n",
        "    test_loss /= len(test_loader.dataset)\n",
        "    correct /= len(test_loader.dataset)\n",
        "    print('\\nTest set: Average loss: {}, Accuracy: {}\\n'.format(test_loss, correct))"
      ]
    },
    {
      "cell_type": "markdown",
      "metadata": {
        "id": "9MXQIbcJyZC0"
      },
      "source": [
        "## Looping over epochs\n",
        "\n",
        "\n",
        "We finally define, how we will optimize our parameters by defining an optimizer.\n",
        "We will use here a very simple one: the SGD (```optim.SGD```) with a learning rate of 0.01.\n",
        "\n",
        "At each iteration, we then call the train and the test function."
      ]
    },
    {
      "cell_type": "code",
      "execution_count": 9,
      "metadata": {
        "id": "ofYcX05ZyZC0"
      },
      "outputs": [
        {
          "name": "stdout",
          "output_type": "stream",
          "text": [
            "epoch 1, loss 2.3110098838806152\n",
            "epoch 1, loss 0.21337848901748657\n",
            "epoch 1, loss 0.21448485553264618\n",
            "epoch 1, loss 0.21996459364891052\n",
            "epoch 1, loss 0.1269250214099884\n",
            "epoch 1, loss 0.2981116473674774\n",
            "epoch 1, loss 0.2685314118862152\n",
            "epoch 1, loss 0.07452107220888138\n",
            "epoch 1, loss 0.18344467878341675\n",
            "epoch 1, loss 0.10809136927127838\n",
            "\n",
            "Test set: Average loss: 0.12358288674354553, Accuracy: 0.9624\n",
            "\n",
            "epoch 2, loss 0.073650062084198\n",
            "epoch 2, loss 0.1591491401195526\n",
            "epoch 2, loss 0.04650852829217911\n",
            "epoch 2, loss 0.03921084478497505\n",
            "epoch 2, loss 0.1799033135175705\n",
            "epoch 2, loss 0.20620886981487274\n",
            "epoch 2, loss 0.21308141946792603\n",
            "epoch 2, loss 0.07232987135648727\n",
            "epoch 2, loss 0.0327000766992569\n",
            "epoch 2, loss 0.05863704904913902\n",
            "\n",
            "Test set: Average loss: 0.0829430482774973, Accuracy: 0.9742\n",
            "\n",
            "epoch 3, loss 0.1392926424741745\n",
            "epoch 3, loss 0.10327523201704025\n",
            "epoch 3, loss 0.0228405948728323\n",
            "epoch 3, loss 0.05775947496294975\n",
            "epoch 3, loss 0.08442150801420212\n",
            "epoch 3, loss 0.0198399368673563\n",
            "epoch 3, loss 0.06336764246225357\n",
            "epoch 3, loss 0.12741346657276154\n",
            "epoch 3, loss 0.030107108876109123\n",
            "epoch 3, loss 0.0976756289601326\n",
            "\n",
            "Test set: Average loss: 0.07237274317741393, Accuracy: 0.9759\n",
            "\n",
            "epoch 4, loss 0.04828431457281113\n",
            "epoch 4, loss 0.03472118824720383\n",
            "epoch 4, loss 0.01740889810025692\n",
            "epoch 4, loss 0.09501665085554123\n",
            "epoch 4, loss 0.047188807278871536\n",
            "epoch 4, loss 0.04652780666947365\n",
            "epoch 4, loss 0.05120076239109039\n",
            "epoch 4, loss 0.045347556471824646\n",
            "epoch 4, loss 0.03731629252433777\n",
            "epoch 4, loss 0.16218900680541992\n",
            "\n",
            "Test set: Average loss: 0.06509040319994092, Accuracy: 0.9787\n",
            "\n",
            "epoch 5, loss 0.055608246475458145\n",
            "epoch 5, loss 0.008255966007709503\n",
            "epoch 5, loss 0.0024062113370746374\n",
            "epoch 5, loss 0.00838552974164486\n",
            "epoch 5, loss 0.007708413992077112\n",
            "epoch 5, loss 0.012940175831317902\n",
            "epoch 5, loss 0.050802215933799744\n",
            "epoch 5, loss 0.014755111187696457\n",
            "epoch 5, loss 0.07662998884916306\n",
            "epoch 5, loss 0.11156702041625977\n",
            "\n",
            "Test set: Average loss: 0.06289088490717112, Accuracy: 0.9808\n",
            "\n",
            "epoch 6, loss 0.01018401887267828\n",
            "epoch 6, loss 0.010552678257226944\n",
            "epoch 6, loss 0.02405621111392975\n",
            "epoch 6, loss 0.007054895628243685\n",
            "epoch 6, loss 0.007719831541180611\n",
            "epoch 6, loss 0.12987610697746277\n",
            "epoch 6, loss 0.011289640329778194\n",
            "epoch 6, loss 0.06601260602474213\n",
            "epoch 6, loss 0.06171794980764389\n",
            "epoch 6, loss 0.004431718494743109\n",
            "\n",
            "Test set: Average loss: 0.05842664525434375, Accuracy: 0.9817\n",
            "\n",
            "epoch 7, loss 0.002963718958199024\n",
            "epoch 7, loss 0.0024378877133131027\n",
            "epoch 7, loss 0.0022398761939257383\n",
            "epoch 7, loss 0.0048715476877987385\n",
            "epoch 7, loss 0.057191152125597\n",
            "epoch 7, loss 0.02999240532517433\n",
            "epoch 7, loss 0.0041350447572767735\n",
            "epoch 7, loss 0.0003235416079405695\n",
            "epoch 7, loss 0.0012657210463657975\n",
            "epoch 7, loss 0.06164022907614708\n",
            "\n",
            "Test set: Average loss: 0.060611946130171415, Accuracy: 0.9817\n",
            "\n",
            "epoch 8, loss 0.0032096239738166332\n",
            "epoch 8, loss 0.0055514732375741005\n",
            "epoch 8, loss 0.015066873282194138\n",
            "epoch 8, loss 0.003310222178697586\n",
            "epoch 8, loss 0.01358755212277174\n",
            "epoch 8, loss 0.018086770549416542\n",
            "epoch 8, loss 0.034549035131931305\n",
            "epoch 8, loss 0.002071518450975418\n",
            "epoch 8, loss 0.03938313573598862\n",
            "epoch 8, loss 0.00032758660381659865\n",
            "\n",
            "Test set: Average loss: 0.06400937498230487, Accuracy: 0.9798\n",
            "\n",
            "epoch 9, loss 0.0006699960213154554\n",
            "epoch 9, loss 0.003399097127839923\n",
            "epoch 9, loss 0.002372513525187969\n",
            "epoch 9, loss 0.0015544614288955927\n",
            "epoch 9, loss 0.008679801598191261\n",
            "epoch 9, loss 0.01386222429573536\n",
            "epoch 9, loss 0.005880038719624281\n",
            "epoch 9, loss 0.00253548682667315\n",
            "epoch 9, loss 0.04653756693005562\n",
            "epoch 9, loss 0.0021519253496080637\n",
            "\n",
            "Test set: Average loss: 0.06426824226332828, Accuracy: 0.982\n",
            "\n",
            "epoch 10, loss 0.0006726381834596395\n",
            "epoch 10, loss 0.0017618320416659117\n",
            "epoch 10, loss 0.004162288736552\n",
            "epoch 10, loss 0.011275358498096466\n",
            "epoch 10, loss 0.0024453941732645035\n",
            "epoch 10, loss 0.0027660641353577375\n",
            "epoch 10, loss 0.0071115512400865555\n",
            "epoch 10, loss 0.003027481259778142\n",
            "epoch 10, loss 0.001482743420638144\n",
            "epoch 10, loss 0.0002835663908626884\n",
            "\n",
            "Test set: Average loss: 0.06069893674654886, Accuracy: 0.9826\n",
            "\n"
          ]
        }
      ],
      "source": [
        "model = Net()\n",
        "optimizer = optim.SGD(model.parameters(), lr=0.01, momentum=0.9)\n",
        "nb_epoch = 10\n",
        "for epoch in range(1, nb_epoch + 1):\n",
        "        # --- START CODE HERE  (06)\n",
        "        train(model, train_loader, optimizer, epoch)\n",
        "        test(model, test_loader)\n",
        "        # --- END CODE HERE"
      ]
    },
    {
      "cell_type": "markdown",
      "metadata": {
        "id": "rXOlN4Bj4Sk0"
      },
      "source": [
        "# Peer-grading\n",
        "\n",
        "To great the Lab, you will apply the following:\n",
        "- When the code of a part (each part is numbered as \"START CODE (01)\" ... \"START CODE (06)\") is correct you get 1.5 point.\n",
        "- You will give one extra point is all the code is correct and run smoothly\n",
        "- So the total for Lab is 10 points."
      ]
    },
    {
      "cell_type": "code",
      "execution_count": null,
      "metadata": {
        "id": "Rmga0J_oyZC1"
      },
      "outputs": [],
      "source": []
    }
  ],
  "metadata": {
    "colab": {
      "provenance": [],
      "toc_visible": true
    },
    "kernelspec": {
      "display_name": ".venv",
      "language": "python",
      "name": "python3"
    },
    "language_info": {
      "codemirror_mode": {
        "name": "ipython",
        "version": 3
      },
      "file_extension": ".py",
      "mimetype": "text/x-python",
      "name": "python",
      "nbconvert_exporter": "python",
      "pygments_lexer": "ipython3",
      "version": "3.12.11"
    },
    "toc": {
      "base_numbering": 1,
      "nav_menu": {},
      "number_sections": true,
      "sideBar": true,
      "skip_h1_title": false,
      "title_cell": "Table of Contents",
      "title_sidebar": "Contents",
      "toc_cell": false,
      "toc_position": {
        "height": "calc(100% - 180px)",
        "left": "10px",
        "top": "150px",
        "width": "165px"
      },
      "toc_section_display": true,
      "toc_window_display": false
    }
  },
  "nbformat": 4,
  "nbformat_minor": 0
}
